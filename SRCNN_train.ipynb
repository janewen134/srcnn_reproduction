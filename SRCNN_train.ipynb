{
 "cells": [
  {
   "cell_type": "markdown",
   "metadata": {},
   "source": [
    "# SRCNN Paper Reproduction"
   ]
  },
  {
   "cell_type": "markdown",
   "metadata": {},
   "source": [
    "flag"
   ]
  },
  {
   "cell_type": "code",
   "execution_count": 2,
   "metadata": {},
   "outputs": [],
   "source": [
    "flags = tf.app.flags\n",
    "flags.DEFINE_integer(\"epoch\", 1000, \"Number of epoch [1000]\")\n",
    "flags.DEFINE_integer(\"batch_size\", 128, \"The size of batch images [128]\")\n",
    "flags.DEFINE_integer(\"image_size\", 33, \"The size of image to use [33]\")\n",
    "flags.DEFINE_integer(\"label_size\", 21, \"The size of label to produce [21]\")\n",
    "flags.DEFINE_float(\"learning_rate\", 1e-4, \"The learning rate of gradient descent algorithm [1e-4]\")\n",
    "flags.DEFINE_integer(\"c_dim\", 1, \"Dimension of image color. [1]\")\n",
    "flags.DEFINE_integer(\"scale\", 3, \"The size of scale factor for preprocessing input image [3]\")\n",
    "flags.DEFINE_integer(\"stride\", 14, \"The size of stride to apply input image [14]\")\n",
    "flags.DEFINE_string(\"./checkpoint_dir\", \"checkpoint\", \"Name of checkpoint directory [checkpoint]\")\n",
    "flags.DEFINE_string(\"./sample_dir\", \"sample\", \"Name of sample directory [sample]\")\n",
    "flags.DEFINE_boolean(\"is_train\", True, \"True for training, False for testing [True]\")\n",
    "FLAGS = flags.FLAGS"
   ]
  },
  {
   "cell_type": "markdown",
   "metadata": {},
   "source": [
    "pre-processing"
   ]
  },
  {
   "cell_type": "code",
   "execution_count": null,
   "metadata": {},
   "outputs": [],
   "source": [
    "def read_data(path):\n",
    "  \"\"\"\n",
    "  Read h5 format data file\n",
    "  \n",
    "  Args:\n",
    "    path: file path of desired file\n",
    "    data: '.h5' file format that contains train data values\n",
    "    label: '.h5' file format that contains train label values\n",
    "  \"\"\"\n",
    "  with h5py.File(path, 'r') as hf:\n",
    "    data = np.array(hf.get('data'))\n",
    "    label = np.array(hf.get('label'))\n",
    "    return data, label\n",
    "\n",
    "\n",
    "def preprocess(path, scale=3):\n",
    "  \"\"\"\n",
    "  Preprocess single image file \n",
    "    (1) Read original image as YCbCr format (and grayscale as default)\n",
    "    (2) Normalize\n",
    "    (3) Apply image file with bicubic interpolation\n",
    "  Args:\n",
    "    path: file path of desired file\n",
    "    input_: image applied bicubic interpolation (low-resolution)\n",
    "    label_: image with original resolution (high-resolution)\n",
    "  \"\"\"\n",
    "  image = imread(path, is_grayscale=True)\n",
    "  label_ = modcrop(image, scale)\n",
    "\n",
    "  # Must be normalized\n",
    "  image = image / 255.\n",
    "  label_ = label_ / 255.\n",
    "\n",
    "  input_ = scipy.ndimage.interpolation.zoom(label_, (1./scale), prefilter=False)\n",
    "  input_ = scipy.ndimage.interpolation.zoom(input_, (scale/1.), prefilter=False)\n",
    "\n",
    "  return input_, label_\n",
    "\n",
    "\n",
    "def prepare_data(sess, dataset):\n",
    "  \"\"\"\n",
    "  Args:\n",
    "    dataset: choose train dataset or test dataset\n",
    "    \n",
    "    For train dataset, output data would be ['.../t1.bmp', '.../t2.bmp', ..., '.../t99.bmp']\n",
    "  \"\"\"\n",
    "  if FLAGS.is_train:\n",
    "    filenames = os.listdir(dataset)\n",
    "    data_dir = os.path.join(os.getcwd(), dataset)\n",
    "    data = glob.glob(os.path.join(data_dir, \"*.bmp\"))\n",
    "  else:\n",
    "    data_dir = os.path.join(os.sep, (os.path.join(os.getcwd(), dataset)), \"Set5\")\n",
    "    data = glob.glob(os.path.join(data_dir, \"*.bmp\"))\n",
    "\n",
    "  return data\n",
    "\n",
    "\n"
   ]
  }
 ],
 "metadata": {
  "kernelspec": {
   "display_name": "Python 3",
   "language": "python",
   "name": "python3"
  },
  "language_info": {
   "codemirror_mode": {
    "name": "ipython",
    "version": 3
   },
   "file_extension": ".py",
   "mimetype": "text/x-python",
   "name": "python",
   "nbconvert_exporter": "python",
   "pygments_lexer": "ipython3",
   "version": "3.7.7"
  }
 },
 "nbformat": 4,
 "nbformat_minor": 4
}
